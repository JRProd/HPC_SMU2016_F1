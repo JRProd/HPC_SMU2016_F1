{
 "cells": [
  {
   "cell_type": "code",
   "execution_count": 1,
   "metadata": {
    "collapsed": false
   },
   "outputs": [
    {
     "name": "stdout",
     "output_type": "stream",
     "text": [
      "Populating the interactive namespace from numpy and matplotlib\n"
     ]
    }
   ],
   "source": [
    "%pylab inline"
   ]
  },
  {
   "cell_type": "code",
   "execution_count": 2,
   "metadata": {
    "collapsed": false
   },
   "outputs": [],
   "source": [
    "import matplotlib.pyplot as plt"
   ]
  },
  {
   "cell_type": "markdown",
   "metadata": {},
   "source": [
    "# Vandermonde Matrix\n"
   ]
  },
  {
   "cell_type": "markdown",
   "metadata": {},
   "source": [
    "To begin part 1 of creating a vandermonde matrix I created a C++ program called vandermonde.cpp. In this program I defined five square matrices with the size $n = [5, 9, 17, 33, 65]$. The vandermonde matrix was then computed as the vector $$v = linspace(0,1,n[i])$$ and the matrix $$A = [(v^T)^0, (v^T)^1, (v^T)^2, ... , (v^T)^{n-1}]$$. Next, to prove the ill-conditioned property of this matrix. I created a random vector $x = Random(n)$ to use as the known values of x. From the know $x$ values I created the correct $b$ values with the equation $Ax = b$. To prove the ill-conditioned property, I reverse soled the equation $Ax = b$ to find $x'$. This method used $Solve(A, b)$ and preformed a linear solve to find $x'$. With the approximated value of $x$ found I used the original equation $Ax = b$ with $x'$ to calculate the approximate value of $b'$. With the values of $x$ and $x'$ found and the values of $b$ and $b'$ found I could calculate the error and the residual for the vandermonde matrix."
   ]
  },
  {
   "cell_type": "code",
   "execution_count": 3,
   "metadata": {
    "collapsed": false
   },
   "outputs": [
    {
     "name": "stdout",
     "output_type": "stream",
     "text": [
      "/* Project - Project 2_Part a\r\n",
      " * Prof - Dr Xu\r\n",
      " * Name - Jake Rowland\r\n",
      " * Date - 10/6/16\r\n",
      " * Purpuse - Create vandermonde matrix to show ill-conditioning\r\n",
      "*/\r\n",
      "\r\n",
      "#include <iostream>\r\n",
      "\r\n",
      "\r\n",
      "#include <fstream>\r\n",
      "#include <vector>\r\n",
      "#include <cmath>\r\n",
      "#include <cstdlib>\r\n",
      "#include \"matrix.hpp\"\r\n",
      "\r\n",
      "int main() {\r\n",
      "\r\n",
      "\t//Defining the different n's for the project and the files to write to\r\n",
      "\tstd::vector<int> n = {5, 9, 17, 33, 65};\r\n",
      "\tstd::ofstream residOut(\"residual.txt\", std::ios::out);\r\n",
      "\tstd::ofstream errorOut(\"error.txt\", std::ios::out);\r\n",
      "\tstd::ofstream nOut(\"n.txt\", std::ios::out);\r\n",
      "\r\n",
      "\t//For all values of n\r\n",
      "\tfor(int i = 0; i < n.size(); i++)\r\n",
      "\t{\r\n",
      "\t\t//Create a vector of equally spaced n entries between 0 and 1\r\n",
      "\t\tMatrix v = Linspace(0, 1, n[i]);\r\n",
      "\r\n",
      "\t\t//Create a nXn matrix\r\n",
      "\t\tMatrix A(n[i],n[i]);\r\n",
      "\r\n",
      "\t\t//Define the power\r\n",
      "\t\tdouble power = 0;\r\n",
      "\r\n",
      "\t\t//A(i,j) = v(i)^(i-1)\r\n",
      "\t\tfor(int x = 0; x < n[i]; x++)\r\n",
      "\t\t{\r\n",
      "\t\t\tfor(int y = 0; y < n[i]; y++)\r\n",
      "\t\t\t{\r\n",
      "\t\t\t\tA(y,x) = pow(v(y), power);\r\n",
      "\t\t\t}\r\n",
      "\t\t\tpower ++;\r\n",
      "\t\t}\r\n",
      "\r\n",
      "\t\t//True value of x\r\n",
      "\t\tMatrix xMat = Random(n[i]);\r\n",
      "\r\n",
      "\t\t//True value of b with value of x\r\n",
      "\t\tMatrix B(n[i]);\r\n",
      "\r\n",
      "\t\t//Find the value of b\r\n",
      "\t\tfor(int x = 0; x < n[i]; x++)\r\n",
      "\t\t{\r\n",
      "\t\t\tdouble bi = 0;\r\n",
      "\t\t\tfor(int y = 0; y < n[i]; y++)\r\n",
      "\t\t\t{\r\n",
      "\t\t\t\tdouble tempA = A(x,y);\r\n",
      "\t\t\t\tdouble tempX = xMat(y);\r\n",
      "\t\t\t\tbi += tempA * tempX;\r\n",
      "\t\t\t}\r\n",
      "\t\t\tB(x) = bi;\r\n",
      "\t\t}\r\n",
      "\r\n",
      "\t\t//Copy matrix because they are modified\r\n",
      "\t\tMatrix Acopy1 = A;\r\n",
      "\t\tMatrix Bcopy1 = B;\r\n",
      "\t\t\r\n",
      "\t\t//Approximate value of x\r\n",
      "\t\tMatrix xHat = LinearSolve(Acopy1,Bcopy1);\r\n",
      "\r\n",
      "\t\t//Approximate value of b\r\n",
      "\t\tMatrix bHat = A*xHat;\r\n",
      "\r\n",
      "\t\t//Find the residual vector\r\n",
      "\t\tMatrix residual = B - bHat;\r\n",
      "\r\n",
      "\t\t//Find the error vector\r\n",
      "\t\tMatrix error = xMat - xHat;\r\n",
      "\r\n",
      "\t\t//Calculate the norm of each vector\r\n",
      "\t\tdouble residualNorm = Norm(residual);\r\n",
      "\t\tdouble errorNorm = Norm(error);\r\n",
      "\r\n",
      "\t\t//Print to text file\r\n",
      "\t\tresidOut <<  residualNorm << \"\\n\";\r\n",
      "\t\terrorOut << errorNorm << \"\\n\";\r\n",
      "\t\tnOut << n[i] << \"\\n\";\r\n",
      "\t}\r\n",
      "}"
     ]
    }
   ],
   "source": [
    "%cat vandermonde.cpp"
   ]
  },
  {
   "cell_type": "markdown",
   "metadata": {},
   "source": [
    "Below is the result of vandermonde.cpp. Each entry in **n**, **residual**, & **error** are values for the same vandermonde matrix."
   ]
  },
  {
   "cell_type": "code",
   "execution_count": 1,
   "metadata": {
    "collapsed": false
   },
   "outputs": [
    {
     "name": "stdout",
     "output_type": "stream",
     "text": [
      "n =  ['5', '9', '17', '33', '65']\n",
      "residual =  ['0', '1.08921e-15', '1.55431e-15', '1.76703e-14', '8.11567e-14']\n",
      "error =  ['2.82112e-14', '1.61079e-11', '0.00140697', '108.533', '155.33']\n"
     ]
    }
   ],
   "source": [
    "n = open(\"n.txt\").read()\n",
    "n = n.split(\"\\n\")\n",
    "n.remove(\"\")\n",
    "\n",
    "residual = open(\"residual.txt\").read()\n",
    "residual = residual.split(\"\\n\")\n",
    "residual.remove(\"\")\n",
    "\n",
    "error = open(\"error.txt\").read()\n",
    "error = error.split(\"\\n\")\n",
    "error.remove(\"\")\n",
    "\n",
    "print (\"n = \", n)\n",
    "print (\"residual = \", residual)\n",
    "print (\"error = \", error)"
   ]
  },
  {
   "cell_type": "markdown",
   "metadata": {},
   "source": [
    "When $ n = 5$ you can see that there is no residual effect of the ill-conditioned matrix and very little error associated with that small of a matrix. Also, as n increases the residual stays about zero with the highest values being when $n=65$ of $8.11567 \\times 10^{-14}$. However, the error **does not** follow this trend with the error heavily increasing as $n$ increases to a maximum of $155.33$. The difference between the two values differs dramatically after the second iteration and only increases. This however show that the residual is not always a good metric for error of a linear system. In fact, in the case of the vandermonde matrix can be a horrible metric for the error. The actual error value is a much better metric for gauging the overall error a linear system and in the case of the vandermonde matrix, to show how ill-conditioned this matrix can be."
   ]
  }
 ],
 "metadata": {
  "anaconda-cloud": {},
  "kernelspec": {
   "display_name": "Python [Root]",
   "language": "python",
   "name": "Python [Root]"
  },
  "language_info": {
   "codemirror_mode": {
    "name": "ipython",
    "version": 3
   },
   "file_extension": ".py",
   "mimetype": "text/x-python",
   "name": "python",
   "nbconvert_exporter": "python",
   "pygments_lexer": "ipython3",
   "version": "3.5.2"
  }
 },
 "nbformat": 4,
 "nbformat_minor": 0
}
