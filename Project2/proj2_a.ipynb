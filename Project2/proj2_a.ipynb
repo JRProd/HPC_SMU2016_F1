{
 "cells": [
  {
   "cell_type": "code",
   "execution_count": 2,
   "metadata": {
    "collapsed": false
   },
   "outputs": [
    {
     "name": "stdout",
     "output_type": "stream",
     "text": [
      "Populating the interactive namespace from numpy and matplotlib\n"
     ]
    }
   ],
   "source": [
    "%pylab inline"
   ]
  },
  {
   "cell_type": "code",
   "execution_count": 3,
   "metadata": {
    "collapsed": false
   },
   "outputs": [],
   "source": [
    "import matplotlib.pyplot as plt"
   ]
  },
  {
   "cell_type": "markdown",
   "metadata": {},
   "source": [
    "# Vandermonde Matrix\n"
   ]
  },
  {
   "cell_type": "markdown",
   "metadata": {},
   "source": [
    "Talk about what a vandermonde Matrix is and how I created one and the Matrix Random Matrix Sole and vandermonde.cpp"
   ]
  },
  {
   "cell_type": "code",
   "execution_count": 9,
   "metadata": {
    "collapsed": false
   },
   "outputs": [
    {
     "name": "stdout",
     "output_type": "stream",
     "text": [
      "n =  ['5', '9', '17', '33', '65']\n",
      "residual =  ['0', '1.08921e-15', '1.55431e-15', '25.394', '50.2465']\n",
      "error =  ['2.82112e-14', '1.61079e-11', '0.00140697', '3.54709', '5.01578']\n"
     ]
    }
   ],
   "source": [
    "n = open(\"n.txt\").read()\n",
    "n = n.split(\"\\n\")\n",
    "n.remove(\"\")\n",
    "\n",
    "residual = open(\"residual.txt\").read()\n",
    "residual = residual.split(\"\\n\")\n",
    "residual.remove(\"\")\n",
    "\n",
    "error = open(\"error.txt\").read()\n",
    "error = error.split(\"\\n\")\n",
    "error.remove(\"\")\n",
    "\n",
    "print (\"n = \", n)\n",
    "print (\"residual = \", residual)\n",
    "print (\"error = \", error)"
   ]
  },
  {
   "cell_type": "markdown",
   "metadata": {},
   "source": [
    "As the magnitures of n increase the more ill-conditioned the matrix becomes. This can be seen in the error norm from the beginning of the array to the end. The error norm increases with each increase in n. The residual acts the same way starting at zero and increasing to 50.2465."
   ]
  },
  {
   "cell_type": "code",
   "execution_count": null,
   "metadata": {
    "collapsed": true
   },
   "outputs": [],
   "source": []
  }
 ],
 "metadata": {
  "anaconda-cloud": {},
  "kernelspec": {
   "display_name": "Python [Root]",
   "language": "python",
   "name": "Python [Root]"
  },
  "language_info": {
   "codemirror_mode": {
    "name": "ipython",
    "version": 3
   },
   "file_extension": ".py",
   "mimetype": "text/x-python",
   "name": "python",
   "nbconvert_exporter": "python",
   "pygments_lexer": "ipython3",
   "version": "3.5.2"
  }
 },
 "nbformat": 4,
 "nbformat_minor": 0
}
