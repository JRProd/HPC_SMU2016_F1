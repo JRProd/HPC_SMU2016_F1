{
 "cells": [
  {
   "cell_type": "code",
   "execution_count": 1,
   "metadata": {
    "collapsed": false
   },
   "outputs": [
    {
     "name": "stdout",
     "output_type": "stream",
     "text": [
      "Populating the interactive namespace from numpy and matplotlib\n"
     ]
    }
   ],
   "source": [
    "%pylab inline"
   ]
  },
  {
   "cell_type": "code",
   "execution_count": 2,
   "metadata": {
    "collapsed": true
   },
   "outputs": [],
   "source": [
    "import matplotlib.pyplot as plt"
   ]
  },
  {
   "cell_type": "markdown",
   "metadata": {},
   "source": [
    "# Newton's Method"
   ]
  },
  {
   "cell_type": "markdown",
   "metadata": {},
   "source": [
    "For Newton's Method portion of this project I created a C++ program called newton.cpp to perform Newton's method of root finding for a funciton $f(x)$. This class contained the method\n",
    "       # double newton(Fcn& f, Fcn& df, double x, int maxit, double tol, bool show_iterates);\n",
    "In this function definitionm f and df are functions that represent the function for which the root should be found and the derivative of that function. X represents the first inital guess and maxit limits newtons method to only $[0, maxit]$ iterations. Finally tol is the user defined tolerance for the accuracy of the root and show_iterates prints statistics as each iteration finishes."
   ]
  },
  {
   "cell_type": "code",
   "execution_count": 4,
   "metadata": {
    "collapsed": false
   },
   "outputs": [
    {
     "name": "stdout",
     "output_type": "stream",
     "text": [
      "/* Project - Project 2_Part b\r\n",
      " * Prof - Dr Xu\r\n",
      " * Name - Jake Rowland\r\n",
      " * Date - 10/6/16\r\n",
      " * Purpuse - Use Newton's method of root finding\r\n",
      "*/\r\n",
      "\r\n",
      "#include <iostream>\r\n",
      "#include <cmath>\r\n",
      "#include \"fcn.hpp\"\r\n",
      "\r\n",
      "#ifndef NEWTON\r\n",
      "#define NEWTON\r\n",
      "\r\n",
      "class Newton{\r\n",
      "public:\r\n",
      "\t//Static as to not require class\r\n",
      "\tstatic double newton(Fcn& f, Fcn& df, double xStart, int maxit, double tol, bool show_iterates)\r\n",
      "\t{\r\n",
      "\t\t//Not to override xStart\r\n",
      "\t\tdouble x = xStart;\r\n",
      "\t\t//Find f(x)\r\n",
      "\t\tdouble fx = f(x);\r\n",
      "\r\n",
      "\t\t//For total iterations wanted\r\n",
      "\t\tfor(int i = 0; i < maxit; i++)\r\n",
      "\t\t{\r\n",
      "\t\t\t//Find derivative at f(x)\r\n",
      "\t\t\tdouble fp = df(x);\r\n",
      "\r\n",
      "\t\t\t//If derivative to small approcing horizontal asymptote or double root.\r\n",
      "\t\t\tif(std::abs(fp) < pow(10, -5))\r\n",
      "\t\t\t{\r\n",
      "\t\t\t\tif(show_iterates)\r\n",
      "\t\t\t\t\tstd::cout << \"Too Small Derivative\\n\";\r\n",
      "\t\t\t\tbreak;\r\n",
      "\t\t\t}\r\n",
      "\r\n",
      "\t\t\t//Value to reduce x by\r\n",
      "\t\t\tdouble d = (double)fx/(double)fp;\r\n",
      "\r\n",
      "\t\t\t//Reduce x and find new f(x) value\r\n",
      "\t\t\tx = x - d;\r\n",
      "\t\t\tfx = f(x);\r\n",
      "\r\n",
      "\t\t\t//If distance is withing tolerance root found\r\n",
      "\t\t\tif(std::abs(d) < tol)\r\n",
      "\t\t\t{\r\n",
      "\t\t\t\tif(show_iterates)\r\n",
      "\t\t\t\t{\r\n",
      "\t\t\t\t\tstd::cout << \"Convergence\\n\";\r\n",
      "\t\t\t\t}\r\n",
      "\t\t\t\tbreak;\r\n",
      "\t\t\t}\r\n",
      "\r\n",
      "\t\t\t//Print each value if wanted\r\n",
      "\t\t\tif(show_iterates)\r\n",
      "\t\t\t{\r\n",
      "\t\t\t\tstd::cout << \"Iter=\" << i << \"  ::  x=\" << x << \"  ::  d=\" << std::abs(d) << \"  ::  fx=\" << std::abs(fx) <<\"\\n\";\r\n",
      "\t\t\t}\r\n",
      "\t\t}\r\n",
      "\r\n",
      "\t\t//Return root\r\n",
      "\t\treturn x;\r\n",
      "\t}\r\n",
      "};\r\n",
      "\r\n",
      "\r\n",
      "\r\n",
      "#endif\r\n"
     ]
    }
   ],
   "source": [
    "%cat newton.cpp"
   ]
  },
  {
   "cell_type": "markdown",
   "metadata": {},
   "source": [
    "The second part of Newton's Method had me creating the C++ program test_newton.cpp. In this program I use my previously implemented program newton.cpp to find the roots for the function $f(x) = x^2(x-3)(x+2)$. Given the inital guesses $x_0 = [-3, 1, 2]$ and the tolerances $e = [10^{-1}, 10^{-5}, 10^{-9}]$ I ran each inital guess with each tolerance and, with show_iterates active, councluded the result into a file named proj2_b.txt"
   ]
  },
  {
   "cell_type": "code",
   "execution_count": 5,
   "metadata": {
    "collapsed": false
   },
   "outputs": [
    {
     "name": "stdout",
     "output_type": "stream",
     "text": [
      "Using -3 to an error of 0.1\n",
      "Iter=0  ::  x=-2.45455  ::  d=0.545455  ::  fx=14.9375\n",
      "Iter=1  ::  x=-2.14186  ::  d=0.312681  ::  fx=3.3464\n",
      "Iter=2  ::  x=-2.01957  ::  d=0.122291  ::  fx=0.400736\n",
      "Convergence\n",
      "\n",
      "\n",
      "Using -3 to an error of 1e-05\n",
      "Iter=0  ::  x=-2.45455  ::  d=0.545455  ::  fx=14.9375\n",
      "Iter=1  ::  x=-2.14186  ::  d=0.312681  ::  fx=3.3464\n",
      "Iter=2  ::  x=-2.01957  ::  d=0.122291  ::  fx=0.400736\n",
      "Iter=3  ::  x=-2.00045  ::  d=0.0191283  ::  fx=0.00891221\n",
      "Iter=4  ::  x=-2  ::  d=0.000445134  ::  fx=4.75706e-06\n",
      "Convergence\n",
      "\n",
      "\n",
      "Using -3 to an error of 1e-09\n",
      "Iter=0  ::  x=-2.45455  ::  d=0.545455  ::  fx=14.9375\n",
      "Iter=1  ::  x=-2.14186  ::  d=0.312681  ::  fx=3.3464\n",
      "Iter=2  ::  x=-2.01957  ::  d=0.122291  ::  fx=0.400736\n",
      "Iter=3  ::  x=-2.00045  ::  d=0.0191283  ::  fx=0.00891221\n",
      "Iter=4  ::  x=-2  ::  d=0.000445134  ::  fx=4.75706e-06\n",
      "Iter=5  ::  x=-2  ::  d=2.37853e-07  ::  fx=1.35891e-12\n",
      "Convergence\n",
      "\n",
      "\n",
      "Using 1 to an error of 0.1\n",
      "Iter=0  ::  x=0.454545  ::  d=0.545455  ::  fx=1.2909\n",
      "Iter=1  ::  x=0.228022  ::  d=0.226524  ::  fx=0.321116\n",
      "Iter=2  ::  x=0.115144  ::  d=0.112877  ::  fx=0.0809002\n",
      "Convergence\n",
      "\n",
      "\n",
      "Using 1 to an error of 1e-05\n",
      "Iter=0  ::  x=0.454545  ::  d=0.545455  ::  fx=1.2909\n",
      "Iter=1  ::  x=0.228022  ::  d=0.226524  ::  fx=0.321116\n",
      "Iter=2  ::  x=0.115144  ::  d=0.112877  ::  fx=0.0809002\n",
      "Iter=3  ::  x=0.0579873  ::  d=0.0571571  ::  fx=0.0203588\n",
      "Iter=4  ::  x=0.0291159  ::  d=0.0288714  ::  fx=0.00511036\n",
      "Iter=5  ::  x=0.014591  ::  d=0.0145249  ::  fx=0.00128044\n",
      "Iter=6  ::  x=0.00730406  ::  d=0.0072869  ::  fx=0.000320483\n",
      "Iter=7  ::  x=0.00365422  ::  d=0.00364985  ::  fx=8.01685e-05\n",
      "Iter=8  ::  x=0.00182766  ::  d=0.00182656  ::  fx=2.00482e-05\n",
      "Iter=9  ::  x=0.000913969  ::  d=0.000913692  ::  fx=5.0128e-06\n",
      "Iter=10  ::  x=0.000457019  ::  d=0.00045695  ::  fx=1.2533e-06\n",
      "Iter=11  ::  x=0.000228518  ::  d=0.000228501  ::  fx=3.13336e-07\n",
      "Iter=12  ::  x=0.000114261  ::  d=0.000114257  ::  fx=7.83354e-08\n",
      "Iter=13  ::  x=5.71312e-05  ::  d=5.71301e-05  ::  fx=1.9584e-08\n",
      "Iter=14  ::  x=2.85657e-05  ::  d=2.85655e-05  ::  fx=4.89603e-09\n",
      "Iter=15  ::  x=1.42829e-05  ::  d=1.42828e-05  ::  fx=1.22401e-09\n",
      "Convergence\n",
      "\n",
      "\n",
      "Using 1 to an error of 1e-09\n",
      "Iter=0  ::  x=0.454545  ::  d=0.545455  ::  fx=1.2909\n",
      "Iter=1  ::  x=0.228022  ::  d=0.226524  ::  fx=0.321116\n",
      "Iter=2  ::  x=0.115144  ::  d=0.112877  ::  fx=0.0809002\n",
      "Iter=3  ::  x=0.0579873  ::  d=0.0571571  ::  fx=0.0203588\n",
      "Iter=4  ::  x=0.0291159  ::  d=0.0288714  ::  fx=0.00511036\n",
      "Iter=5  ::  x=0.014591  ::  d=0.0145249  ::  fx=0.00128044\n",
      "Iter=6  ::  x=0.00730406  ::  d=0.0072869  ::  fx=0.000320483\n",
      "Iter=7  ::  x=0.00365422  ::  d=0.00364985  ::  fx=8.01685e-05\n",
      "Iter=8  ::  x=0.00182766  ::  d=0.00182656  ::  fx=2.00482e-05\n",
      "Iter=9  ::  x=0.000913969  ::  d=0.000913692  ::  fx=5.0128e-06\n",
      "Iter=10  ::  x=0.000457019  ::  d=0.00045695  ::  fx=1.2533e-06\n",
      "Iter=11  ::  x=0.000228518  ::  d=0.000228501  ::  fx=3.13336e-07\n",
      "Iter=12  ::  x=0.000114261  ::  d=0.000114257  ::  fx=7.83354e-08\n",
      "Iter=13  ::  x=5.71312e-05  ::  d=5.71301e-05  ::  fx=1.9584e-08\n",
      "Iter=14  ::  x=2.85657e-05  ::  d=2.85655e-05  ::  fx=4.89603e-09\n",
      "Iter=15  ::  x=1.42829e-05  ::  d=1.42828e-05  ::  fx=1.22401e-09\n",
      "Iter=16  ::  x=7.14146e-06  ::  d=7.14144e-06  ::  fx=3.06003e-10\n",
      "Iter=17  ::  x=3.57073e-06  ::  d=3.57073e-06  ::  fx=7.65008e-11\n",
      "Iter=18  ::  x=1.78537e-06  ::  d=1.78537e-06  ::  fx=1.91252e-11\n",
      "Iter=19  ::  x=8.92684e-07  ::  d=8.92683e-07  ::  fx=4.7813e-12\n",
      "Iter=20  ::  x=4.46342e-07  ::  d=4.46342e-07  ::  fx=1.19533e-12\n",
      "Too Small Derivative\n",
      "\n",
      "\n",
      "Using 2 to an error of 0.1\n",
      "Iter=0  ::  x=-2  ::  d=4  ::  fx=0\n",
      "Convergence\n",
      "\n",
      "\n",
      "Using 2 to an error of 1e-05\n",
      "Iter=0  ::  x=-2  ::  d=4  ::  fx=0\n",
      "Convergence\n",
      "\n",
      "\n",
      "Using 2 to an error of 1e-09\n",
      "Iter=0  ::  x=-2  ::  d=4  ::  fx=0\n",
      "Convergence\n",
      "\n",
      "\n",
      "\n"
     ]
    }
   ],
   "source": [
    "proj2 = open(\"proj2_b.txt\").read()\n",
    "print (proj2)"
   ]
  },
  {
   "cell_type": "markdown",
   "metadata": {},
   "source": [
    "A few things of intrest arrise after looking at the results. Algebra tells us that the roots for $f(x) = x^2(x-3)(x+2)$ are $[-2, 0^2, +3]$ with zero being a double root. When the inital guess of $x_0 = 3$ is applied to newtons method, the method works marvalously. Very little iterations are required to find the root -2 to tolerances $[10^{-1}, 10^{-5}, 10^{-9}]$. Things dont go as smoothly for the next two guesses $x_0 = 1, 2$. $x_0 = 1$ degrades to linearly convergant because the root at $x = 0$ has a derivative of $f'(0) = 0$. This causes the change factor in newtons method to approch zero slowly because $lim_{x->0}$ $f'(x) = 0$. This however can not be avoided in newton's method. And, with the final tolerance of $10^{-9}$ results in a stop case because the derivative becomes to small signalling a horizontal asymtope or double root. The final result is the most interesting however. The first two results found or closely aproximated the root nearest to them $x_0 = -3$ found the root $f(-2) = 0$, $x_0 = 1$ found the root $f(0) = 0$ or closely aproximated it. However $x_0 = 2$ did not find the root $f(3) = 0$, but it did find a root. This is considered an ill-chosen starting point because the method worked as intened $d = f(2)/fd(2)$ and $ x = x - d$, so whats the problem. Solving for the values shows that $d = -16/-4 = 4$ then the new x is $x = 2 - 4 = -2$. As stated above $f(-2) = 0$. Because of the shape of this graph and because of the ill-chosen point $x_0 = 2$ newton's method believes to have found a root and infact is has, $f(-2) = 0$ but it found the wrong root, not $f(3) = 0$"
   ]
  },
  {
   "cell_type": "code",
   "execution_count": 6,
   "metadata": {
    "collapsed": false
   },
   "outputs": [
    {
     "name": "stdout",
     "output_type": "stream",
     "text": [
      "/* Project - Project 2_Part b\r\n",
      " * Prof - Dr Xu\r\n",
      " * Name - Jake Rowland\r\n",
      " * Date - 10/6/16\r\n",
      " * Purpuse - Test the newton class\r\n",
      "*/\r\n",
      "\r\n",
      "#include <iostream>\r\n",
      "#include <fstream>\r\n",
      "#include <cmath>\r\n",
      "#include \"newton.cpp\"\r\n",
      "#include \"fcn.hpp\"\r\n",
      "\r\n",
      "//Creating the fuction f(x) = x^2 * (x - 3) * (x + 2)\r\n",
      "class fnorm: public Fcn \r\n",
      "{\r\n",
      "\tdouble operator()(double x)\r\n",
      "\t{\r\n",
      "\t\treturn pow(x, 2) * (x - 3) * (x + 2);\r\n",
      "\t}\r\n",
      "};\r\n",
      "\r\n",
      "//Create the derivative of the function f(x)\r\n",
      "class fderv: public Fcn \r\n",
      "{\r\n",
      "\tdouble operator()(double x)\r\n",
      "\t{\r\n",
      "\t\treturn x * ((4 * pow(x, 2)) - (3 * x) - 12); \r\n",
      "\t}\r\n",
      "};\r\n",
      "\r\n",
      "int main ()\r\n",
      "{\r\n",
      "\t//Creating the starting points and the tolerances\r\n",
      "\tdouble x0[3] = {-3, 1, 2};\r\n",
      "\tdouble e[3] = {pow(10, -1), pow(10, -5), pow (10, -9)};\r\n",
      "\r\n",
      "\t//Create both of the functions\r\n",
      "\tfnorm f1;\r\n",
      "\tfderv f2;\r\n",
      "\r\n",
      "\t//Loop throught the different starting points\r\n",
      "\tfor(int i = 0; i < 3; i++)\r\n",
      "\t{\r\n",
      "\t\t//Loop throught the different tolerances\r\n",
      "\t\tfor(int j = 0; j < 3; j++)\r\n",
      "\t\t{\r\n",
      "\t\t\t//States what starting point and tolerance used and calls Newton::newton()\r\n",
      "\t\t\tstd::cout << \"Using \" << x0[i] << \" to an error of \" << e[j] << \"\\n\";\r\n",
      "\t\t\tNewton::newton(f1, f2, x0[i], 50, e[j], true);\r\n",
      "\t\t\tstd::cout << \"\\n\\n\";\r\n",
      "\t\t}\r\n",
      "\t}\r\n",
      "}\r\n"
     ]
    }
   ],
   "source": [
    "%cat test_newton.cpp"
   ]
  },
  {
   "cell_type": "code",
   "execution_count": null,
   "metadata": {
    "collapsed": true
   },
   "outputs": [],
   "source": []
  }
 ],
 "metadata": {
  "anaconda-cloud": {},
  "kernelspec": {
   "display_name": "Python [Root]",
   "language": "python",
   "name": "Python [Root]"
  },
  "language_info": {
   "codemirror_mode": {
    "name": "ipython",
    "version": 3
   },
   "file_extension": ".py",
   "mimetype": "text/x-python",
   "name": "python",
   "nbconvert_exporter": "python",
   "pygments_lexer": "ipython3",
   "version": "3.5.2"
  }
 },
 "nbformat": 4,
 "nbformat_minor": 0
}
