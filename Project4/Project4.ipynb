{
 "cells": [
  {
   "cell_type": "code",
   "execution_count": 1,
   "metadata": {
    "collapsed": false
   },
   "outputs": [
    {
     "name": "stdout",
     "output_type": "stream",
     "text": [
      "Populating the interactive namespace from numpy and matplotlib\n"
     ]
    }
   ],
   "source": [
    "%pylab inline"
   ]
  },
  {
   "cell_type": "markdown",
   "metadata": {
    "collapsed": true
   },
   "source": [
    "# Numerical Integration"
   ]
  },
  {
   "cell_type": "markdown",
   "metadata": {},
   "source": [
    "This lab helped me understand different and powerful forms of numerical integration. In the first part I had to develop my own method of numerical integration. This method had to have a $O(h^8)$ conversion order. The next section used my previous method of numerical integration but was adaptive in the sense that it could quickly find the number of nodes needed for a given tolerance. Finally, I applied my numerical integration process to hardening steel and calculating the carbon concentration relative to iron based on time and temperature."
   ]
  },
  {
   "cell_type": "markdown",
   "metadata": {},
   "source": [
    "## High-order numberical integration"
   ]
  },
  {
   "cell_type": "markdown",
   "metadata": {},
   "source": [
    "#### Numerical integration methods"
   ]
  },
  {
   "cell_type": "markdown",
   "metadata": {},
   "source": [
    "I tried two methods for achieving the desired $O(h^8)$ numerical integration function for approximating $$\\int_{a}^{b} f(x)dx$$\n",
    "\n",
    "\n",
    "These methods were implemented in a c++ file named *composite_int* with a method signature of \n",
    "```cpp\n",
    "double composite_int(Fnc& f, const double a, const double b, const int n);\n",
    "```\n",
    "\n",
    "##### Rombergs\n",
    "This method used recursive trapezoid method. Each iteration better models the function in question. This method achieved a conversion order of $\\gt O(h^8)$ after 16 nodes. However, anything above $\\approx$ 25 nodes resulted in a long computation time and the error was poor compared to the sample 2-node Gaussian method. Because of the high error, this method was scraped.\n",
    "\n",
    "##### Four-Node Gaussian Quadrature\n",
    "The second method I implemented was a Gaussian Quadrature with 4 Gaussian nodes and weights. This method achieved the desired $O(h^8)$ conversion order and had very acceptable error values that rapidly decreased as more nodes were used. \n",
    "\n",
    "\n",
    "$$i = \\{1, 2, 3, 4\\}$$\n",
    "\n",
    "\n",
    "$$-\\sqrt{ \\frac{1}{7} (3-4 \\sqrt{0.3})}, -\\sqrt{ \\frac{1}{7} (3+4 \\sqrt{0.3})}, +\\sqrt{ \\frac{1}{7} (3-4 \\sqrt{0.3})}, +\\sqrt{ \\frac{1}{7} (3+4 \\sqrt{0.3})}$$\n",
    "\n",
    "\n",
    "$$\\frac{1}{2} + \\frac{1}{12} \\sqrt{ \\frac{10}{3}}, \\frac{1}{2} - \\frac{1}{12} \\sqrt{ \\frac{10}{3}}, \\frac{1}{2} + \\frac{1}{12} \\sqrt{ \\frac{10}{3}}, \\frac{1}{2} - \\frac{1}{12} \\sqrt{ \\frac{10}{3}}$$ \n",
    "\n",
    "\n",
    "These nodes and weights were used to approximate the integral F of $$F = A_1 \\times f(x_1) + A_2 \\times f(x_2) + A_3 \\times f(x_3) + A_4 \\times f(x_4)$$ At each node $n_i$ where $x_i = n_i + 0.5\\times h \\times$ \"node\" $_i$\n"
   ]
  },
  {
   "cell_type": "markdown",
   "metadata": {},
   "source": [
    "#### Testing my methods"
   ]
  },
  {
   "cell_type": "markdown",
   "metadata": {},
   "source": [
    "After I developed the method to achieve both the $O(h^8)$ requirement and be sufficiently accurate I had to test my function. The function that my method was tested on is $$f(x) = e^{0.5x} + \\sin (25x)$$ To test my function I run my method on $f(x)$ over the interval $[-3, 5]$ using nodes $$n=\\{10, 15, 20, 30, 40, 50, 60, 80, 100, 120, 200, 250, 300, 400\\}$$ The output from my composite test class is as follows"
   ]
  },
  {
   "cell_type": "code",
   "execution_count": 2,
   "metadata": {
    "collapsed": false
   },
   "outputs": [
    {
     "name": "stdout",
     "output_type": "stream",
     "text": [
      "\n",
      " True Integral = 2.3924089071413306e+01\n",
      "\n",
      " Gauss-2 approximation:\n",
      "     n             R(f)            relerr    conv rate\n",
      "  ---------------------------------------------------\n",
      "       10  2.4004419883352980e+01  3.4e-03     ----\n",
      "       15  2.3907259400305129e+01  7.0e-04   3.854856\n",
      "       20  2.3924921763522665e+01  3.5e-05   10.449851\n",
      "       30  2.3924244960141589e+01  6.5e-06   4.132344\n",
      "       40  2.3924084859071016e+01  1.8e-07   12.552481\n",
      "       50  2.3924088677801649e+01  1.6e-08   10.622800\n",
      "       60  2.3924088999577528e+01  3.0e-09   9.329572\n",
      "       80  2.3924089065582592e+01  2.4e-10   8.729231\n",
      "      100  2.3924089070518363e+01  3.7e-11   8.398786\n",
      "      120  2.3924089071214624e+01  8.3e-12   8.254945\n",
      "      200  2.3924089071410187e+01  1.3e-13   8.132134\n",
      "      250  2.3924089071412791e+01  2.2e-14   8.070647\n",
      "      300  2.3924089071413189e+01  4.9e-15   8.118767\n",
      "      400  2.3924089071413309e+01  1.5e-16   12.154068\n",
      "  ---------------------------------------------------\n",
      "\n"
     ]
    }
   ],
   "source": [
    "compFile = open(\"int.txt\").read()\n",
    "print(compFile)"
   ]
  },
  {
   "cell_type": "markdown",
   "metadata": {},
   "source": [
    "## Adaptive Numerical Integration"
   ]
  },
  {
   "cell_type": "markdown",
   "metadata": {},
   "source": [
    "#### Adaptive Function"
   ]
  },
  {
   "cell_type": "markdown",
   "metadata": {},
   "source": [
    "The purpose of my adaptive function is to calculate my integration approximation to a required tolerance without doing too much work. To achieve this I used my previous integration method with various values for n. My goal is to satisfy \n",
    "\n",
    "\n",
    "$$|I(f) - R_n(f)| < rtol |I(f)| + atol$$\n",
    "\n",
    "\n",
    "\n",
    "However, because we do not know the actual integral $I(f)$ I must modify the inequality some. Because of the rapidly convergent integration method I created, I can exchange $I(f)$ with $R_{n+k}(f)$ with $k$ being some value I define. This result in the inequality \n",
    "\n",
    "\n",
    "$$|R_{n+k}(f) - R_n(f)| < rtol |R_{n+k}(f)| + atol$$\n"
   ]
  },
  {
   "cell_type": "markdown",
   "metadata": {},
   "source": [
    "##### How I defined k"
   ]
  },
  {
   "cell_type": "markdown",
   "metadata": {},
   "source": [
    "I defined k as a exponential function because in my test above in *test_composite.cpp* I saw that for lower levels of error bigger and bigger jumps were needed for each node. I defined my k values as \n",
    "\n",
    "$$k(x) = e^{0.4x + 0.4}$$ \n",
    "\n",
    "rounded to the nearest integer. Also, instead of adding k to my number of nodes I multiplied it. The first iteration started at $n=10$ being $R_n(x)$ and $R_{n*k(i)}(x)$ with i being the number of current runs\n"
   ]
  },
  {
   "cell_type": "code",
   "execution_count": 5,
   "metadata": {
    "collapsed": false
   },
   "outputs": [
    {
     "data": {
      "image/png": "[encoded data removed]",
      "text/plain": [
       "<matplotlib.figure.Figure at 0x7fcab08a3828>"
      ]
     },
     "metadata": {},
     "output_type": "display_data"
    }
   ],
   "source": [
    "x = linspace(0,6,100)\n",
    "y = 2.71828 ** (0.4*x + 0.4)\n",
    "\n",
    "fig = plt.figure(figsize=(12,8))\n",
    "ax = fig.add_subplot(111)\n",
    "\n",
    "ax.plot(x,y,\"b-\", label=\"$k(x)=e^{0.4x + 0.4}$\")\n",
    "ax.set_title(\"$k(x)=e^{0.4x + 0.4}$\")\n",
    "ax.set_xlabel(\"x-axis\")\n",
    "ax.set_ylabel(\"y-axis\")\n",
    "\n",
    "legendPlot1 = ax.legend(loc=\"upper left\", shadow=True)\n",
    "\n",
    "plt.show()"
   ]
  },
  {
   "cell_type": "markdown",
   "metadata": {},
   "source": [
    "My adaptive method is defined in the c++ file *adaptive_int.cpp* with the method signature \n",
    "```cpp\n",
    "int adaptive_int(Fcn& f, const double a, counst double b, const double rtol, const double atol, double& R, int & n, int& Ntot);\n",
    "```\n",
    "\n",
    "This function returns a 0 if successful and a 1 if failed. The values of $I(f)$ approximated, the number of nodes, and the different number of nodes tired are stored in R, n, Ntot respectfully.\n"
   ]
  },
  {
   "cell_type": "markdown",
   "metadata": {},
   "source": [
    "#### Testing my Adaptive Method"
   ]
  },
  {
   "cell_type": "markdown",
   "metadata": {},
   "source": [
    "To test my Adaptive method for validity, I created the c++ file *test_adapt.cpp*. In this file I ran my **adaptive_int()** function on the same function as my *test_Composite.cpp* function. However, this time I used every pair of $(rtol,atol)$ with $atol_i = \\frac{rtol_i}{1000}$ and \n",
    "\n",
    "\n",
    "$$rtol=\\{10^{-2},10^{-4},10^{-6},10^{-8},10^{-10},10^{-12}$$\n",
    "\n",
    "\n",
    "The results of my adaptive tests are\n"
   ]
  },
  {
   "cell_type": "code",
   "execution_count": 6,
   "metadata": {
    "collapsed": false
   },
   "outputs": [
    {
     "name": "stdout",
     "output_type": "stream",
     "text": [
      "\n",
      " True Integral = 2.3924089071413306e+01\n",
      "\n",
      " Adaptive Method approximation:\n",
      "     n(nTol),   rtol           R(f)                |I(f) - R(f)|          rtol|I(f)| + atol\n",
      "  -------------------------------------------------------------------------------------------\n",
      "     10(  1), 1.0e-02  2.3924921763522665e+01  8.3269210935910110e-04  2.3925089071413308e-01\n",
      "     20(  2), 1.0e-04  2.3924244960141589e+01  1.5588872828331546e-04  2.3925089071413306e-03\n",
      "     50(  4), 1.0e-06  2.3924089053040777e+01  1.8372528387544662e-08  2.3925089071413303e-05\n",
      "     70(  5), 1.0e-08  2.3924089071006748e+01  4.0655834254721412e-10  2.3925089071413308e-07\n",
      "    110(  6), 1.0e-10  2.3924089071394292e+01  1.9014123608940281e-11  2.3925089071413307e-09\n",
      "    160(  7), 1.0e-12  2.3924089071412791e+01  5.1514348342607263e-13  2.3925089071413304e-11\n",
      "  -------------------------------------------------------------------------------------------\n",
      "\n"
     ]
    }
   ],
   "source": [
    "adaptFile = open(\"adapt.txt\").read()\n",
    "print(adaptFile)"
   ]
  },
  {
   "cell_type": "markdown",
   "metadata": {},
   "source": [
    "##### Analisys of my Adaptive Method"
   ]
  },
  {
   "cell_type": "markdown",
   "metadata": {},
   "source": [
    "After some testing and multiple variants of $k(x)$ I arrived at the function I am currently using\n",
    "\n",
    "\n",
    "$$k(x) = e^{0.4x + 0.4}$$ \n",
    "\n",
    "\n",
    "because at nearly every iteration of my run count, I double the precision of \n",
    "\n",
    "\n",
    "$$|I(f) - R(f)|$$\n",
    "\n",
    "\n",
    "This allows for very quick analysis of the approximated integral $R(f)$ and with $rtol=10^{-12}$ my function only evaluated 160 nodes.\n"
   ]
  },
  {
   "cell_type": "markdown",
   "metadata": {},
   "source": [
    "## Application"
   ]
  },
  {
   "cell_type": "markdown",
   "metadata": {},
   "source": [
    "The final portion of this project required me to implement my previous methods in the context of hardening steel. Carbon concentration $C(x,t,T)$ at distance $x$ (in meters) from the surface, at time $t$ (in seconds), for a specified temperature T (in Kelvin) is \n",
    "\n",
    "\n",
    "$$C(x,t,T) = C_s - (C_s - C_0) erf(\\frac{x}{\\sqrt{4t D(R)}})$$\n",
    "\n",
    "\n",
    "$C_0$ is the initial carbon concentration. $C_s$ is the gas' carbon concentration. $D(T) is the temperature-dependent diffusion of the steel.\n",
    "\n",
    "\n",
    "$$D(T) = 6.2 \\times 10^{-7}exp(\\frac{8 \\times 10^4}{8.31T})$$\n",
    "\n",
    "\n",
    "Finally, the $erf$ function defined as\n",
    "\n",
    "\n",
    "$$erf(y)= \\frac{2}{\\sqrt{\\pi}}\\int_{0}^{y}e^{-z^2}dz$$\n",
    "\n",
    "\n",
    "To implement this complex formula, I defined two methods in the c++ file *carbon.cpp*\n",
    "```cpp\n",
    "double erf(const double y, const double rtol, const double atol);\n",
    "\n",
    "double carbon(const doublex, const double t, const double T, const double rtol, const double atol);\n",
    "```\n"
   ]
  },
  {
   "cell_type": "markdown",
   "metadata": {},
   "source": [
    "#### Calculating Carbon Diffusion"
   ]
  },
  {
   "cell_type": "markdown",
   "metadata": {},
   "source": [
    "To calculate the carbon diffusion at different temperatures I created a test program called *test_carbon.cpp* to perform the following tasks:\n",
    "\n",
    ">Create an array of 400 evenly-spaced T values over the interval $[800, 1200]$ K.\n",
    ">\n",
    "Create an array of 600 evenly-spaced $t$ values from $t = 1$ second up to $t = 48$ hours.\n",
    ">\n",
    "Create a $400 \\times 600$ array that contains $C(0.002, t, T)$.\n",
    ">\n",
    "Create a $400 \\times 600$ array that contains $C(0.004, t, T)$.\n",
    ">\n",
    "Create an array of length 600 containing $C(0.002, t, 800)$. Repeat this to output the carbon concentrations for a 2 mm depth at\n",
    "900K, 1000K, 1100K and 1200K.\n",
    ">\n",
    "Create an array of length 600 containing $C(0.004, t, 800)$. Repeat this to output the carbon concentrations for a 4 mm depth at\n",
    "900K, 1000K, 1100K and 1200K.\n",
    "\n",
    "All results were computed to a tolerance of $rtol = 10^{-11}$ and $atol = 10^{-15}$\n"
   ]
  },
  {
   "cell_type": "markdown",
   "metadata": {},
   "source": [
    "#### Results"
   ]
  },
  {
   "cell_type": "code",
   "execution_count": 16,
   "metadata": {
    "collapsed": true
   },
   "outputs": [],
   "source": [
    "T = loadtxt(\"Temp.txt\")\n",
    "t = loadtxt(\"time.txt\")\n",
    "\n",
    "C2mm = loadtxt(\"C2mm.txt\")\n",
    "C4mm = loadtxt(\"C4mm.txt\")\n",
    "\n",
    "C2mm_800k = loadtxt(\"C2mm_800K.txt\")\n",
    "C2mm_900k = loadtxt(\"C2mm_900K.txt\")\n",
    "C2mm_1000k = loadtxt(\"C2mm_1000K.txt\")\n",
    "C2mm_1100k = loadtxt(\"C2mm_1100K.txt\")\n",
    "C2mm_1200k = loadtxt(\"C2mm_1200K.txt\")\n",
    "\n",
    "C4mm_800k = loadtxt(\"C4mm_800K.txt\")\n",
    "C4mm_900k = loadtxt(\"C4mm_900K.txt\")\n",
    "C4mm_1000k = loadtxt(\"C4mm_1000K.txt\")\n",
    "C4mm_1100k = loadtxt(\"C4mm_1100K.txt\")\n",
    "C4mm_1200k = loadtxt(\"C4mm_1200K.txt\")"
   ]
  },
  {
   "cell_type": "markdown",
   "metadata": {},
   "source": [
    "##### Contour plot of $C(0.002,t,T)$"
   ]
  },
  {
   "cell_type": "code",
   "execution_count": 25,
   "metadata": {
    "collapsed": false
   },
   "outputs": [
    {
     "data": {
      "text/plain": [
       "([<matplotlib.axis.XTick at 0x7f12e22425f8>,\n",
       "  <matplotlib.axis.XTick at 0x7f12e223cef0>,\n",
       "  <matplotlib.axis.XTick at 0x7f12e213bb70>,\n",
       "  <matplotlib.axis.XTick at 0x7f12e2132b70>,\n",
       "  <matplotlib.axis.XTick at 0x7f12e1db2a90>,\n",
       "  <matplotlib.axis.XTick at 0x7f12e1dc7390>,\n",
       "  <matplotlib.axis.XTick at 0x7f12e213b7b8>],\n",
       " <a list of 7 Text xticklabel objects>)"
      ]
     },
     "execution_count": 25,
     "metadata": {},
     "output_type": "execute_result"
    },
    {
     "data": {
      "image/png": "[encoded data removed]",
      "text/plain": [
       "<matplotlib.figure.Figure at 0x7f12e1f9b940>"
      ]
     },
     "metadata": {},
     "output_type": "display_data"
    }
   ],
   "source": [
    "figure()\n",
    "imshow(C2mm)\n",
    "colorbar(orientation='horizontal')\n",
    "\n",
    "yticks( (0, 100, 200, 300, 400,),\n",
    "('800 K', '900 K', '1000 K', '1100 K', '1200 K'))\n",
    "xticks( (12, 100, 200, 300, 400, 500, 600),\n",
    "('1 hr', '8 hr', '16 hr', '24 hr', '32 hr', '40 hr', '48 hr'))"
   ]
  },
  {
   "cell_type": "markdown",
   "metadata": {},
   "source": [
    "##### Analysis at 2mm depth\n",
    "This graph shows us how both time (y-axis) and temperature (x-axis) effect how much carbon is diffused into the steel. It is clear however that temperature plays a greater roll in carbon diffusion then time because higher temperatures absorb more carbon quicker than lower temperatures. We can also tell that the rate of absorption is relatively quick compared to at $0.004$ meters in the next graph.\n"
   ]
  },
  {
   "cell_type": "markdown",
   "metadata": {},
   "source": [
    "##### Contour plot of $C(0.004,t,T)$"
   ]
  },
  {
   "cell_type": "code",
   "execution_count": 24,
   "metadata": {
    "collapsed": false
   },
   "outputs": [
    {
     "data": {
      "text/plain": [
       "([<matplotlib.axis.XTick at 0x7f12e23620f0>,\n",
       "  <matplotlib.axis.XTick at 0x7f12e1f8b7f0>,\n",
       "  <matplotlib.axis.XTick at 0x7f12e231d0b8>,\n",
       "  <matplotlib.axis.XTick at 0x7f12e20792e8>,\n",
       "  <matplotlib.axis.XTick at 0x7f12e236c588>,\n",
       "  <matplotlib.axis.XTick at 0x7f12e236ce48>,\n",
       "  <matplotlib.axis.XTick at 0x7f12e4d029e8>],\n",
       " <a list of 7 Text xticklabel objects>)"
      ]
     },
     "execution_count": 24,
     "metadata": {},
     "output_type": "execute_result"
    },
    {
     "data": {
      "image/png": "[encoded data removed]",
      "text/plain": [
       "<matplotlib.figure.Figure at 0x7f12e1ef6390>"
      ]
     },
     "metadata": {},
     "output_type": "display_data"
    }
   ],
   "source": [
    "figure()\n",
    "imshow(C4mm)\n",
    "colorbar(orientation='horizontal')\n",
    "yticks( (0, 100, 200, 300, 400,),\n",
    "('800 K', '900 K', '1000 K', '1100 K', '1200 K'))\n",
    "xticks( (12, 100, 200, 300, 400, 500, 600),\n",
    "('1 hr', '8 hr', '16 hr', '24 hr', '32 hr', '40 hr', '48 hr'))"
   ]
  },
  {
   "cell_type": "markdown",
   "metadata": {},
   "source": [
    "##### Analysis of 4mm depth\n",
    "Like the graph above, the absorption of carbon is based on both time (y-axis) and temperature (x-azis) still favoring temperature. However, unlike the previous graph, absorption values are smaller and temperature must be much hotter $(\\approx 100K)$ more for any absorption to take place\n"
   ]
  },
  {
   "cell_type": "markdown",
   "metadata": {},
   "source": [
    "##### Absorption values at 2mm"
   ]
  },
  {
   "cell_type": "code",
   "execution_count": 26,
   "metadata": {
    "collapsed": false
   },
   "outputs": [
    {
     "data": {
      "image/png": "[encoded data removed]",
      "text/plain": [
       "<matplotlib.figure.Figure at 0x7f12e203c208>"
      ]
     },
     "metadata": {},
     "output_type": "display_data"
    }
   ],
   "source": [
    "fig = plt.figure(figsize=(12,8))\n",
    "ax = fig.add_subplot(111)\n",
    "\n",
    "ax.plot(t,C2mm_1200k,\"b-\", label=\"$C(0.002,t,1200)$\")\n",
    "ax.plot(t,C2mm_1000k,\"g-\", label=\"$C(0.002,t,1000)$\")\n",
    "ax.plot(t,C2mm_1000k,\"g-\", label=\"$C(0.002,t,1000)$\")\n",
    "ax.plot(t,C2mm_900k,\"y-\", label=\"$C(0.002,t,900)$\")\n",
    "ax.plot(t,C2mm_800k,\"r-\", label=\"$C(0.002,t,800)$\")\n",
    "\n",
    "ax.set_title(\"$C(0.002,t,T) at Diffrent Temperatures$\")\n",
    "ax.set_xlabel(\"x-axis\")\n",
    "ax.set_ylabel(\"y-axis\")\n",
    "\n",
    "xticks( (1*3600, 6*3600, 12*3600, 24*3600, 36*3600, 48*3600),\n",
    "('1 hr', '6 hr', '2 hr', '24 hr', '36 hr', '48 hr') )\n",
    "\n",
    "legendPlot1 = ax.legend(loc=\"lower right\", shadow=True)\n",
    "\n",
    "plt.show()"
   ]
  },
  {
   "cell_type": "markdown",
   "metadata": {},
   "source": [
    "##### Absorption by temperature at 2mm\n",
    "This graph shows different levels of diffusion at different temperatures \n",
    "\n",
    "\n",
    "$$T =\\{800K, 900K, 1000K, 1100K, 1200K\\}$$\n",
    "\n",
    "\n",
    "Temperature heavily effects carbon absorption. The blue line (1200 K) has a rapid spike around 1 hr. However, all graphs seem to approach about the same rate after $\\approx$ 48 hr's. This lead me to conclude that temperature effects the rate of diffusion until a saturation point (for that temperature) is reach at which point diffusion stops.\n"
   ]
  },
  {
   "cell_type": "markdown",
   "metadata": {},
   "source": [
    "##### Absorption values at 4mm"
   ]
  },
  {
   "cell_type": "code",
   "execution_count": 27,
   "metadata": {
    "collapsed": false
   },
   "outputs": [
    {
     "data": {
      "image/png": "[encoded data removed]",
      "text/plain": [
       "<matplotlib.figure.Figure at 0x7f12e1cceb70>"
      ]
     },
     "metadata": {},
     "output_type": "display_data"
    }
   ],
   "source": [
    "fig = plt.figure(figsize=(12,8))\n",
    "ax = fig.add_subplot(111)\n",
    "\n",
    "ax.plot(t,C4mm_1200k,\"b-\", label=\"$C(0.004,t,1200)$\")\n",
    "ax.plot(t,C4mm_1100k,\"c-\", label=\"$C(0.004,t,1100)$\")\n",
    "ax.plot(t,C4mm_1000k,\"g-\", label=\"$C(0.004,t,1000)$\")\n",
    "ax.plot(t,C4mm_900k,\"y-\", label=\"$C(0.004,t,900)$\")\n",
    "ax.plot(t,C4mm_800k,\"r-\", label=\"$C(0.004,t,800)$\")\n",
    "\n",
    "ax.set_title(\"$C(0.002,t,T) at Diffrent Temperatures$\")\n",
    "ax.set_xlabel(\"x-axis\")\n",
    "ax.set_ylabel(\"y-axis\")\n",
    "\n",
    "xticks( (1*3600, 6*3600, 12*3600, 24*3600, 36*3600, 48*3600),\n",
    "('1 hr', '6 hr', '2 hr', '24 hr', '36 hr', '48 hr') )\n",
    "\n",
    "legendPlot1 = ax.legend(loc=\"lower right\", shadow=True)\n",
    "\n",
    "plt.show()"
   ]
  },
  {
   "cell_type": "markdown",
   "metadata": {
    "collapsed": true
   },
   "source": [
    "##### Absorption by temperature at 4mm\n",
    "The same set of temperatures used above is used here. This graph is absorption values at 4mm as time passes. As observed above, temperature has a major impact in diffusion. However, time plays a much bigger factor this time because absorption rates are lower even for high temperatures. Also, as observed above, each separate temperature looks to be approaching an asymptotic maximum when the metal is completely saturated at that temperature. At that point, diffusion will stop and no more carbon will be added to the steel at that temperature.\n"
   ]
  },
  {
   "cell_type": "markdown",
   "metadata": {},
   "source": [
    "## Apendex"
   ]
  },
  {
   "cell_type": "markdown",
   "metadata": {},
   "source": [
    "### Part 1 Code\n",
    "#### composite_int.cpp\n",
    "```cpp\n",
    "/* Project - Project 4\n",
    " * Professor - Dr. Xu\n",
    " * Author - Jake Rowland\n",
    " * Date - 12/1/2016\n",
    " * Purpose - Create integration method of O(h^8)\n",
    "*/\n",
    "\n",
    "#include <iostream>\n",
    "#include \"fcn.hpp\"\n",
    "#include <cmath>\n",
    "\n",
    "double composite_int(Fcn& f, const double a, const double b, const int n)\n",
    "{\n",
    "\tif (b < a) {\n",
    "    std::cerr << \"error: illegal interval, b < a\\n\";\n",
    "    return 0.0;\n",
    "  }\n",
    "  if (n < 1) {\n",
    "    std::cerr << \"error: illegal number of subintervals, n < 1\\n\";\n",
    "    return 0.0;\n",
    "  }\n",
    "\n",
    "  // set subinterval width\n",
    "  double h = (b-a)/n;\n",
    "\n",
    "  // set nodes/weights defining the quadrature method\n",
    "  double x1 = -sqrt((1.0/7.0) * (3.0 - 4.0 * sqrt(0.3)));\n",
    "  double x2 = -sqrt((1.0/7.0) * (3.0 + 4.0 * sqrt(0.3)));\n",
    "  double x3 =  sqrt((1.0/7.0) * (3.0 - 4.0 * sqrt(0.3)));\n",
    "  double x4 =  sqrt((1.0/7.0) * (3.0 + 4.0 * sqrt(0.3)));\n",
    "  double w1 =  1.0/2.0 + 1.0/12.0 * sqrt(10.0/3.0);\n",
    "  double w2 =  1.0/2.0 - 1.0/12.0 * sqrt(10.0/3.0);\n",
    "  double w3 =  1.0/2.0 + 1.0/12.0 * sqrt(10.0/3.0);\n",
    "  double w4 =  1.0/2.0 - 1.0/12.0 * sqrt(10.0/3.0);\n",
    "\n",
    "  // initialize result\n",
    "  double F = 0.0;\n",
    "\n",
    "  // loop over subintervals, accumulating result\n",
    "  double xmid, node1, node2, node3, node4;\n",
    "  for (int i=0; i<n; i++) {\n",
    "   \n",
    "    // determine evaluation points within subinterval\n",
    "    xmid  = a + (i+0.5)*h;\n",
    "    node1 = xmid + 0.5*h*x1;\n",
    "    node2 = xmid + 0.5*h*x2;\n",
    "    node3 = xmid + 0.5*h*x3;\n",
    "    node4 = xmid + 0.5*h*x4;\n",
    "\n",
    "    // add Gauss2 approximation on this subinterval to result\n",
    "    F += w1*f(node1) + w2*f(node2) + w3*f(node3) + w4*f(node4);\n",
    "\n",
    "  } // end loop\n",
    "\n",
    "  // return final result\n",
    "  return (0.5*h*F);\n",
    "}\n",
    "```\n",
    "#### test_Composite.cpp\n",
    "```cpp\n",
    "/* Project - Project 4\n",
    " * Professor - Dr. Xu\n",
    " * Author - Jake Rowland\n",
    " * Date - 12/1/2016\n",
    " * Purpose - Test composite_int.cpp\n",
    "*/\n",
    "\n",
    "// Inclusions\n",
    "#include <stdlib.h>\n",
    "#include <stdio.h>\n",
    "#include <iostream>\n",
    "#include <vector>\n",
    "#include <math.h>\n",
    "#include \"fcn.hpp\"\n",
    "\n",
    "using namespace std;\n",
    "\n",
    "// function prototypes\n",
    "double composite_int(Fcn& f, const double a, \n",
    "\t\t\tconst double b, const int n);\n",
    "\n",
    "// Integrand\n",
    "class fcn : public Fcn {\n",
    "public:\n",
    "  double c, d;\n",
    "  double operator()(double x) {   // function evaluation\n",
    "    return (exp(c*x) + sin(d*x));\n",
    "  }\n",
    "  double antiderivative(double x) { // function evaluation\n",
    "    return (exp(c*x)/c - cos(d*x)/d);\n",
    "  }\n",
    "};\n",
    "\n",
    "\n",
    "// This routine tests the Gauss-2 method on a simple integral\n",
    "int main(int argc, char* argv[]) {\n",
    "\n",
    "  // limits of integration\n",
    "  double a = -3.0;\n",
    "  double b = 5.0;\n",
    "\n",
    "  // integrand\n",
    "  fcn f;\n",
    "  f.c = 0.5;\n",
    "  f.d = 25.0;\n",
    "\n",
    "  // true integral value\n",
    "  double Itrue = f.antiderivative(b) - f.antiderivative(a);\n",
    "  printf(\"\\n True Integral = %22.16e\\n\", Itrue);\n",
    "\n",
    "\n",
    "  // test the Gauss-2 rule\n",
    "  cout << \"\\n Gauss-2 approximation:\\n\";\n",
    "  cout << \"     n             R(f)            relerr    conv rate\\n\";\n",
    "  cout << \"  ---------------------------------------------------\\n\";\n",
    "  vector<int> n = {10, 15, 20, 30, 40, 50, 60, 80, 100, 120, 200, 250, 300, 400};\n",
    "  vector<double> errors(n.size());\n",
    "  vector<double> hvals(n.size());\n",
    "\n",
    "  // iterate over n values, computing approximations, error, convergence rate\n",
    "  double Iapprox;\n",
    "  for (int i=0; i<n.size(); i++) {\n",
    "\n",
    "    printf(\"   %6i\", n[i]);\n",
    "    Iapprox = composite_int(f, a, b, n[i]);\n",
    "    errors[i] = fabs(Itrue-Iapprox)/fabs(Itrue);\n",
    "    hvals[i] = (b-a)/n[i];\n",
    "    if (i == 0) \n",
    "      printf(\"  %22.16e  %7.1e     ----\\n\", Iapprox, errors[i]);\n",
    "    else \n",
    "      printf(\"  %22.16e  %7.1e   %f\\n\", Iapprox, errors[i], \n",
    "\t     (log(errors[i-1]) - log(errors[i]))/(log(hvals[i-1]) - log(hvals[i])));\n",
    "    \n",
    "  }\n",
    "  cout << \"  ---------------------------------------------------\\n\";\n",
    "}\n",
    "```"
   ]
  },
  {
   "cell_type": "markdown",
   "metadata": {},
   "source": [
    "### Part 2 Code\n",
    "#### adaptive_int.cpp\n",
    "```cpp\n",
    "/* Project - Project 4\n",
    " * Professor - Dr. Xu\n",
    " * Author - Jake Rowland\n",
    " * Date - 12/1/2016\n",
    " * Purpose - Make my integration method adaptive\n",
    "*/\n",
    "\n",
    "#include \"fcn.hpp\"\n",
    "#include <cmath>\n",
    "\n",
    "double composite_int(Fcn& f, const double a, \n",
    "\t\t\tconst double b, const int n);\n",
    "\n",
    "//Function to find k by\n",
    "int increment(int x)\n",
    "{\n",
    "\tdouble w = 0.4;\n",
    "\tdouble xD = 0.4;\n",
    "\tdouble yD = 0;\n",
    "\treturn (int) round(exp(w * x + xD) + yD);\n",
    "}\n",
    "\n",
    "int adaptive_int(Fcn& f, const double a, const double b, const double rtol, const double atol, double& R, int& n, int& Ntot)\n",
    "{\n",
    "\t//Nodes to start with\n",
    "\tint startN = 10;\n",
    "\n",
    "\t//Number of runs\n",
    "\tint runCount = 1;\n",
    "\n",
    "\t//While still under the node limit\n",
    "\twhile(startN <= 10000)\n",
    "\t{\n",
    "\t\t//Get the first approximation\n",
    "\t\tdouble Rn = composite_int(f, a, b, startN);\n",
    "\t\t//Get the second approximation with k+1 nodes\n",
    "\t\tdouble RnIncr = composite_int(f, a, b, 10 * increment(runCount));\n",
    "\n",
    "\t\t//Check if in bounds\n",
    "\t\tif(std::abs(RnIncr - Rn) < rtol * std::abs(RnIncr) + atol)\n",
    "\t\t{\n",
    "\t\t\t//Store values\n",
    "\t\t\tR = RnIncr;\n",
    "\t\t\tn = startN;\n",
    "\t\t\tNtot = runCount;\n",
    "\t\t\t//Return 0 if successful\n",
    "\t\t\treturn 0;\n",
    "\t\t}\n",
    "\n",
    "\t\t//Increment nodes and run counter\n",
    "\t\tstartN = 10 * increment(runCount);\n",
    "\t\trunCount ++;\n",
    "\t}\n",
    "\t//Return 1 if failed\n",
    "\treturn 1;\n",
    "}\n",
    "```\n",
    "#### test_adapt.cpp\n",
    "```cpp\n",
    "/* Project - Project 4\n",
    " * Professor - Dr. Xu\n",
    " * Author - Jake Rowland\n",
    " * Date - 12/1/2016\n",
    " * Purpose - Test adaptive_int.cpp\n",
    "*/\n",
    "\n",
    "// Inclusions\n",
    "#include <stdlib.h>\n",
    "#include <stdio.h>\n",
    "#include <iostream>\n",
    "#include <vector>\n",
    "#include <math.h>\n",
    "#include <cmath>\n",
    "#include \"fcn.hpp\"\n",
    "\n",
    "using namespace std;\n",
    "\n",
    "// function prototypes\n",
    "int adaptive_int(Fcn& f, const double a, const double b, const double rtol, \n",
    "              const double atol, double& R, int& n, int& Ntot);\n",
    "\n",
    "// Integrand\n",
    "class fcn : public Fcn {\n",
    "public:\n",
    "  double c, d;\n",
    "  double operator()(double x) {   // function evaluation\n",
    "    return (exp(c*x) + sin(d*x));\n",
    "  }\n",
    "  double antiderivative(double x) { // function evaluation\n",
    "    return (exp(c*x)/c - cos(d*x)/d);\n",
    "  }\n",
    "};\n",
    "\n",
    "\n",
    "// This routine tests the Gauss-2 method on a simple integral\n",
    "int main(int argc, char* argv[]) {\n",
    "\n",
    "  // limits of integration\n",
    "  double a = -3.0;\n",
    "  double b = 5.0;\n",
    "\n",
    "  // integrand\n",
    "  fcn f;\n",
    "  f.c = 0.5;\n",
    "  f.d = 25.0;\n",
    "\n",
    "  // true integral value\n",
    "  double Itrue = f.antiderivative(b) - f.antiderivative(a);\n",
    "  printf(\"\\n True Integral = %22.16e\\n\", Itrue);\n",
    "\n",
    "\n",
    "  // test the Gauss-2 rule\n",
    "  cout << \"\\n Adaptive Method approximation:\\n\";\n",
    "  cout << \"     n(nTol),   rtol           R(f)                |I(f) - R(f)|          rtol|I(f)| + atol\\n\";\n",
    "  cout << \"  -------------------------------------------------------------------------------------------\\n\";\n",
    "  vector<double> rtol = {pow(10,-2), pow(10,-4), pow(10,-6), pow(10,-8), pow(10,-10), pow(10,-12)};\n",
    "\n",
    "  // iterate over n values, computing approximations, error, convergence rate\n",
    "  double Iapprox;\n",
    "  int n;\n",
    "  int nTol;\n",
    "  for (int i=0; i<rtol.size(); i++) {\n",
    "\n",
    "    int worked = adaptive_int(f, a, b, rtol[i], rtol[i]/1000.0, Iapprox, n, nTol);\n",
    "    printf(\"    %3i(%3i), %5.1e\", n, nTol, rtol[i]);\n",
    "    if (worked == 0) \n",
    "      printf(\"  %22.16e  %22.16e  %22.16e\\n\", Iapprox, abs(Itrue - Iapprox), (rtol[i]) * abs(Itrue) + rtol[i]/1000);\n",
    "    else \n",
    "      printf(\"Did not solve!\");\n",
    "    \n",
    "  }\n",
    "  cout << \"  -------------------------------------------------------------------------------------------\\n\";\n",
    "}\n",
    "```"
   ]
  },
  {
   "cell_type": "markdown",
   "metadata": {},
   "source": [
    "### Part 3 Code\n",
    "#### carbon.cpp\n",
    "```cpp\n",
    "/* Project - Project 4\n",
    " * Professor - Dr. Xu\n",
    " * Author - Jake Rowland\n",
    " * Date - 12/1/2016\n",
    " * Purpose - Calculate carbon concentration\n",
    "*/\n",
    "\n",
    "#include \"fcn.hpp\"\n",
    "\n",
    "#include <iostream>\n",
    "#include <cmath>\n",
    "\n",
    "\n",
    "//Integration function\n",
    "class fcn : public Fcn {\n",
    "public:\n",
    "  \tdouble operator()(double x) {   // function evaluation\n",
    "    \treturn (exp(-pow(x,2)));\n",
    "  \t}\n",
    "};\n",
    "\n",
    "//Temperature-dependent diffusion coefficient\n",
    "class fcnD : public Fcn {\n",
    "public:\n",
    "  \tdouble operator()(double x) {   // function evaluation\n",
    "  \t\tdouble left = .00000062;\n",
    "  \t\tdouble top = 80000;\n",
    "  \t\tdouble bottom = 8.31 * x;\n",
    "    \treturn (left * exp(-(top/bottom)));\n",
    "  \t}\n",
    "};\n",
    "\n",
    "\n",
    "int adaptive_int(Fcn& f, const double a, const double b, const double rtol, const double atol, double& R, int& n, int& Ntot);\n",
    "\n",
    "//Error function\n",
    "double erf(const double y, const double rtol, const double atol)\n",
    "{\n",
    "\t//Define return values\n",
    "\tfcn f;\n",
    "\tdouble R;\n",
    "\tint n;\n",
    "\tint Ntot;\n",
    "\n",
    "\t//Get the integral of the error function\n",
    "\tint success = adaptive_int(f, 0, y, rtol, atol, R, n, Ntot);\n",
    "\n",
    "\t//If failed\n",
    "\tif(success == 1)\n",
    "\t{\n",
    "\t\tstd::cout << \"Error in calculating the erf derivative!\\n\";\n",
    "\t}\n",
    "\t//If successed\n",
    "\telse\n",
    "\t{\n",
    "\t\t//Multipy by constant\n",
    "\t\tR = 2.0/sqrt(M_PI) * R;\n",
    "\t}\n",
    "\t\n",
    "\t//Return r\n",
    "\treturn R;\n",
    "};\n",
    "\n",
    "//Carbon diffusion function\n",
    "double carbon(const double x, const double t, const double T, const double rtol, const double atol)\n",
    "{\n",
    "//\tstd::cout << \"CARBON START\\n\";\n",
    "\n",
    "\t//Set constants\n",
    "\tdouble cInit = 0.001;\n",
    "\tdouble cGas  = 0.02;\n",
    "\n",
    "\tfcnD D;\n",
    "\n",
    "//\tstd::cout << \"C(x,t,T) = \" << cGas << \"(\" << cGas << \" - \" << cInit << \")erf((\" << x << \")/(sqrt(4 * \" << t << \" * D(\" << T << \")))\\n\\n\";\n",
    "//\tstd::cout << \"erf(y) = (2)/(sqrt(PI)) * \\\\int_{0}^{y} e^{-z^{2}}dz\\n\\n\";\n",
    "//\tstd::cout << \"D(T) = 0.00000062 exp(-(80000)/(8.31 * \" << T <<\"))\\n\";\n",
    "\n",
    "\t//Get temperatue-dependent coefficient\n",
    "\tdouble dt = D(T);\n",
    "\n",
    "\t//Get y for erf(y)\n",
    "\tdouble y = x/sqrt(4 * t * dt);\n",
    "\n",
    "\t//Get erf(y)\n",
    "\tdouble erfy = erf(y, rtol, atol);\n",
    "\n",
    "//\tstd::cout << \"D(\" << T << \") = \" << dt << \"\\n\";\n",
    "//\tstd::cout << \"erf(\" << y << \") = (2)/(sqrt(PI)) * \\\\int_{0}^{\" << y << \"} e^{-z^{2}}dz = \" << erfy <<\"\\n\";\n",
    "\n",
    "\t//Get diffusion of carbon\n",
    "\tdouble val = cGas - (cGas - cInit) * erfy;\n",
    "\n",
    "//\tstd::cout << \"C(\" << x << \",\" << t << \",\" << T << \") = \" << cGas << \"(\" << cGas << \" - \" << cInit << \") * \"<< erfy <<  \" = \"  << val << \"\\n\\n\\n\";\n",
    "\n",
    "\t//Return diffusion\n",
    "\treturn val;\n",
    "};\n",
    "```\n",
    "#### test_carbon.cpp\n",
    "```cpp\n",
    "/* Project - Project 4\n",
    " * Professor - Dr. Xu\n",
    " * Author - Jake Rowland\n",
    " * Date - 12/1/2016\n",
    " * Purpose - Test carbon.cpp\n",
    "*/\n",
    "\n",
    "#include <iostream>\n",
    "#include \"matrix.hpp\"\n",
    "\n",
    "double carbon(const double x, const double t, \n",
    "\tconst double T, const double rtol, const double atol);\n",
    "\n",
    "int main()\n",
    "{\n",
    "\t//Set constants\n",
    "\tint tempSize = 400; //400\n",
    "\tint timeSize = 600; //600\n",
    "\tdouble rtol = pow(10, -11);\n",
    "\tdouble atol = pow(10, -15);\n",
    "\n",
    "\t//Get Temperature values\n",
    "\tMatrix T = Linspace(800,1200, tempSize);\n",
    "\n",
    "\t//Get time values\n",
    "\tMatrix t = Linspace(1, 48*3600, timeSize);\n",
    "\n",
    "\t//Get matrix for 2mm\n",
    "\tMatrix C2(tempSize,timeSize);\n",
    "\n",
    "\t//Get matrix for 4mm\n",
    "\tMatrix C4(tempSize,timeSize);\n",
    "\n",
    "\t//For all the temps\n",
    "\tfor(int i = 0; i < tempSize; i++)\n",
    "\t{\n",
    "\t\t//For all the times\n",
    "\t\tfor(int j = 0; j < timeSize; j++)\n",
    "\t\t{\n",
    "\t\t\t//Get the diffusion at time t and temp T\n",
    "\t\t\tC2(i,j) = carbon(0.002, t(j), T(i), rtol, atol);\n",
    "\t\t\tC4(i,j) = carbon(0.004, t(j), T(i), rtol, atol);\n",
    "\n",
    "\t\t}\n",
    "\t}\n",
    "\n",
    "\t//Get matrix for diffrent temperatures at 2mm\n",
    "\tMatrix C2_800(timeSize);\n",
    "\tMatrix C2_900(timeSize);\n",
    "\tMatrix C2_1000(timeSize);\n",
    "\tMatrix C2_1100(timeSize);\n",
    "\tMatrix C2_1200(timeSize);\n",
    "\n",
    "\t//For all the times\n",
    "\tfor(int j = 0; j < timeSize; j++)\n",
    "\t{\n",
    "\t\t//Get the diffusion\n",
    "\t\tC2_800(j) = carbon(0.002, t(j), 800, rtol, atol);\n",
    "\t\tC2_900(j) = carbon(0.002, t(j), 900, rtol, atol);\n",
    "\t\tC2_1000(j) = carbon(0.002, t(j), 1000, rtol, atol);\n",
    "\t\tC2_1100(j) = carbon(0.002, t(j), 1100, rtol, atol);\n",
    "\t\tC2_1200(j) = carbon(0.002, t(j), 1200, rtol, atol);\n",
    "\t}\n",
    "\n",
    "\t//Get matrix for diffrent temperatures at 4mm\n",
    "\tMatrix C4_800(timeSize);\n",
    "\tMatrix C4_900(timeSize);\n",
    "\tMatrix C4_1000(timeSize);\n",
    "\tMatrix C4_1100(timeSize);\n",
    "\tMatrix C4_1200(timeSize);\n",
    "\n",
    "\t//For all the times\n",
    "\tfor(int j = 0; j < t.Size(); j++)\n",
    "\t{\n",
    "\t\t//Get the diffusion\n",
    "\t\tC4_800(j) = carbon(0.004, t(j), 800, rtol, atol);\n",
    "\t\tC4_900(j) = carbon(0.004, t(j), 900, rtol, atol);\n",
    "\t\tC4_1000(j) = carbon(0.004, t(j), 1000, rtol, atol);\n",
    "\t\tC4_1100(j) = carbon(0.004, t(j), 1100, rtol, atol);\n",
    "\t\tC4_1200(j) = carbon(0.004, t(j), 1200, rtol, atol);\n",
    "\t}\n",
    "\n",
    "\t//Wire all the matrixes to files for graphing\n",
    "\tT.Write(\"Temp.txt\");\n",
    "\tt.Write(\"time.txt\");\n",
    "\n",
    "\tC2.Write(\"C2mm.txt\");\n",
    "\tC4.Write(\"C4mm.txt\");\n",
    "\n",
    "\n",
    "\tC2_800.Write(\"C2mm_800K.txt\");\n",
    "\tC2_900.Write(\"C2mm_900K.txt\");\n",
    "\tC2_1000.Write(\"C2mm_1000K.txt\");\n",
    "\tC2_1100.Write(\"C2mm_1100K.txt\");\n",
    "\tC2_1200.Write(\"C2mm_1200K.txt\");\n",
    "\n",
    "\tC4_800.Write(\"C4mm_800K.txt\");\n",
    "\tC4_900.Write(\"C4mm_900K.txt\");\n",
    "\tC4_1000.Write(\"C4mm_1000K.txt\");\n",
    "\tC4_1100.Write(\"C4mm_1100K.txt\");\n",
    "\tC4_1200.Write(\"C4mm_1200K.txt\");\n",
    "}\n",
    "```"
   ]
  },
  {
   "cell_type": "markdown",
   "metadata": {},
   "source": [
    "### Not Part files\n",
    "#### Makefile\n",
    "```make\n",
    "###################################################################\n",
    "#  Makefile for project 4\n",
    "#\n",
    "#  Daniel R. Reynolds\n",
    "#  SMU Mathematics\n",
    "#  Math 3316\n",
    "#  31 October 2015\n",
    "###################################################################\n",
    "\n",
    "# compiler & flags\n",
    "CXX = g++\n",
    "CXXFLAGS = -O2 -std=c++11\n",
    "\n",
    "# makefile targets\n",
    "all : test_Gauss2.exe test_Composite.exe test_adapt.exe test_carbon.exe\n",
    "\n",
    "test_Gauss2.exe : test_Gauss2.cpp composite_Gauss2.cpp\n",
    "\t$(CXX) $(CXXFLAGS) $^ -o $@\n",
    "\n",
    "test_Composite.exe : test_Composite.cpp composite_int.cpp\n",
    "\t$(CXX) $(CXXFLAGS) $^ -o $@\n",
    "\n",
    "test_adapt.exe : test_adapt.cpp adaptive_int.cpp composite_int.cpp\n",
    "\t$(CXX) $(CXXFLAGS) $^ -o $@\n",
    "\n",
    "test_carbon.exe : adaptive_int.cpp composite_int.cpp carbon.cpp matrix.cpp test_carbon.cpp\n",
    "\t$(CXX) $(CXXFLAGS) $^ -o $@\n",
    "\n",
    "clean :\n",
    "\t\\rm -f *.o *.txt\n",
    "\n",
    "realclean : clean\n",
    "\t\\rm -f *.exe *~\n",
    "\n",
    "\n",
    "####### End of Makefile #######\n",
    "```"
   ]
  },
  {
   "cell_type": "markdown",
   "metadata": {},
   "source": [
    "## Authors\n",
    "Jake Rowland"
   ]
  },
  {
   "cell_type": "code",
   "execution_count": null,
   "metadata": {
    "collapsed": true
   },
   "outputs": [],
   "source": []
  }
 ],
 "metadata": {
  "anaconda-cloud": {},
  "kernelspec": {
   "display_name": "Python [Root]",
   "language": "python",
   "name": "Python [Root]"
  },
  "language_info": {
   "codemirror_mode": {
    "name": "ipython",
    "version": 3
   },
   "file_extension": ".py",
   "mimetype": "text/x-python",
   "name": "python",
   "nbconvert_exporter": "python",
   "pygments_lexer": "ipython3",
   "version": "3.5.2"
  }
 },
 "nbformat": 4,
 "nbformat_minor": 0
}
